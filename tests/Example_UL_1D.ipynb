{
 "cells": [
  {
   "cell_type": "markdown",
   "id": "alive-courage",
   "metadata": {},
   "source": [
    "# Example UL CLs asymptotic frequentist using tau_upperlimitstools_fitting module"
   ]
  },
  {
   "cell_type": "markdown",
   "id": "boring-tiffany",
   "metadata": {},
   "source": [
    "#### This example works for both the 1D and 2D cases; you just need to change the name of the ROOT file where the workspace is located."
   ]
  },
  {
   "cell_type": "code",
   "execution_count": 1,
   "id": "spectacular-conspiracy",
   "metadata": {},
   "outputs": [
    {
     "name": "stdout",
     "output_type": "stream",
     "text": [
      "Welcome to JupyROOT 6.26/02\n"
     ]
    }
   ],
   "source": [
    "import ROOT"
   ]
  },
  {
   "cell_type": "code",
   "execution_count": 2,
   "id": "german-bolivia",
   "metadata": {},
   "outputs": [],
   "source": [
    "import tau_upperlimitstools_fitting as tau_tools"
   ]
  },
  {
   "cell_type": "markdown",
   "id": "described-reverse",
   "metadata": {},
   "source": [
    "### Specification for UL calculation  (Asymptotic CLs)"
   ]
  },
  {
   "cell_type": "code",
   "execution_count": 3,
   "id": "roman-complaint",
   "metadata": {},
   "outputs": [],
   "source": [
    "upperlimit_configuration={'asymptotic_CLs':{ \"workspace\":{\n",
    "                                                          \"filename\": \"workspace_model_sb.root\", \n",
    "                                                          \"name\":\"myWorkSpace\"},\n",
    "                                             \"upper_limit\":{\n",
    "                                                             \"one_side\":True,\n",
    "                                                             \"confidence_level\":0.90,\n",
    "                                                             \"points_to_scan\":30,\n",
    "                                                             \"poi_min\":0,\n",
    "                                                             \"poi_max\":100,\n",
    "                                                             \"set_verbose\":False,\n",
    "                                                             \"set_print_level\":-1}\n",
    "                                           }\n",
    "                    }"
   ]
  },
  {
   "cell_type": "code",
   "execution_count": 4,
   "id": "acting-endorsement",
   "metadata": {
    "scrolled": true,
    "tags": []
   },
   "outputs": [
    {
     "name": "stdout",
     "output_type": "stream",
     "text": [
      "Configurating S+B Model and B Model\n",
      "Cheking Workspace\n",
      "......................................\n",
      "Creating Asymptotic Calculator with S+b and B Model\n",
      "................................\n",
      "The hypothesis test for CLs will be between:\n",
      "\n",
      "poi:  0 100\n",
      "The next number of points will be scanned: 30\n",
      "................................\n",
      "\n",
      "RooWorkspace(myWorkSpace) myWorkSpace contents\n",
      "\n",
      "variables\n",
      "---------\n",
      "(n_bkg,n_sig,x)\n",
      "\n",
      "p.d.f.s\n",
      "-------\n",
      "RooHistPdf::background_pdf[ pdfObs=(x) ] = 120\n",
      "RooAddPdf::model_sb[ n_sig * signal_pdf + n_bkg * background_pdf ] = 120\n",
      "RooHistPdf::signal_pdf[ pdfObs=(x) ] = 800\n",
      "\n",
      "datasets\n",
      "--------\n",
      "RooDataSet::pseudo_data(x)\n",
      "RooDataHist::pseudo_data_binned(x)\n",
      "\n",
      "embedded datasets (in pdfs and functions)\n",
      "-----------------------------------------\n",
      "RooDataHist::datahist_vars_signal(x)\n",
      "RooDataHist::datahist_vars_background(x)\n",
      "\n",
      "parameter snapshots\n",
      "-------------------\n",
      "S+B Model__snapshot = (n_sig=2.98639 +/- (0,24.5546))\n",
      "B Model__snapshot = (n_sig=0 +/- (0,24.5546))\n",
      "\n",
      "named sets\n",
      "----------\n",
      "B Model__snapshot:(n_sig)\n",
      "ModelConfig_NuisParams:(n_bkg)\n",
      "ModelConfig_Observables:(x)\n",
      "ModelConfig_POI:(n_sig)\n",
      "S+B Model__snapshot:(n_sig)\n",
      "\n",
      "generic objects\n",
      "---------------\n",
      "RooStats::ModelConfig::S+B Model\n",
      "RooStats::ModelConfig::B Model\n",
      "\n",
      "[#0] PROGRESS:Eval -- AsymptoticCalculator::Initialize....\n",
      "[#0] PROGRESS:Eval -- AsymptoticCalculator::Initialize - Find  best unconditional NLL on observed data\n",
      "AsymptoticCalculator::EvaluateNLL  ........ using Minuit / Migrad with strategy  1 and tolerance 1\n",
      " **********\n",
      " **    1 **SET PRINT           0\n",
      " **********\n",
      " **********\n",
      " **    2 **SET NOGRAD\n",
      " **********\n",
      " PARAMETER DEFINITIONS:\n",
      "    NO.   NAME         VALUE      STEP SIZE      LIMITS\n",
      "     1 n_bkg        1.99793e+03  5.07658e+01   -1.00000e+01  3.00000e+03\n",
      "     2 n_sig        0.00000e+00  2.40484e+01   -2.00000e+01  1.00000e+03\n",
      " MINUIT WARNING IN PARAMETR\n",
      " ============== VARIABLE2 BROUGHT BACK INSIDE LIMITS.\n",
      " **********\n",
      " **    3 **SET ERR         0.5\n",
      " **********\n",
      " **********\n",
      " **    4 **SET PRINT           0\n",
      " **********\n",
      " **********\n",
      " **    5 **SET STR           1\n",
      " **********\n",
      " **********\n",
      " **    6 **MIGRAD        1000           1\n",
      " **********\n",
      " MIGRAD MINIMIZATION HAS CONVERGED.\n",
      " MIGRAD WILL VERIFY CONVERGENCE AND ERROR MATRIX.\n",
      " FCN=-9137.93 FROM MIGRAD    STATUS=CONVERGED      31 CALLS          32 TOTAL\n",
      "                     EDM=4.56461e-08    STRATEGY= 1      ERROR MATRIX ACCURATE \n",
      "  EXT PARAMETER                                   STEP         FIRST   \n",
      "  NO.   NAME      VALUE            ERROR          SIZE      DERIVATIVE \n",
      "   1  n_bkg        1.99796e+03   5.09033e+01   2.08460e-03   3.97280e-03\n",
      "   2  n_sig        3.04456e+00   2.40983e+01   9.42624e-03   1.51043e-03\n",
      "                               ERR DEF= 0.5\n",
      "AsymptoticCalculator::EvaluateNLL -  value = -9137.93\tfit time : Real time 0:00:00, CP time 0.040\n",
      "[#0] PROGRESS:Eval -- Best fitted POI value = 3.04456 +/- 24.0983\n",
      "[#0] PROGRESS:Eval -- AsymptoticCalculator: Building Asimov data Set\n",
      "[#1] INFO:InputArguments -- AsymptoticCalculator: Asimov data will be generated using fitted nuisance parameter values\n",
      "MakeAsimov: Setting poi n_sig to a constant value = 0\n",
      "MakeAsimov: doing a conditional fit for finding best nuisance values \n",
      " **********\n",
      " **    1 **SET PRINT           0\n",
      " **********\n",
      " **********\n",
      " **    2 **SET NOGRAD\n",
      " **********\n",
      " PARAMETER DEFINITIONS:\n",
      "    NO.   NAME         VALUE      STEP SIZE      LIMITS\n",
      "     1 n_bkg        1.99796e+03  5.09033e+01   -1.00000e+01  3.00000e+03\n",
      " **********\n",
      " **    3 **SET ERR         0.5\n",
      " **********\n",
      " **********\n",
      " **    4 **SET PRINT           0\n",
      " **********\n",
      " **********\n",
      " **    5 **SET STR           1\n",
      " **********\n",
      " **********\n",
      " **    6 **MIGRAD         500           1\n",
      " **********\n",
      " MIGRAD MINIMIZATION HAS CONVERGED.\n",
      " MIGRAD WILL VERIFY CONVERGENCE AND ERROR MATRIX.\n",
      " FCN=-9137.92 FROM MIGRAD    STATUS=CONVERGED      12 CALLS          13 TOTAL\n",
      "                     EDM=2.06465e-08    STRATEGY= 1      ERROR MATRIX ACCURATE \n",
      "  EXT PARAMETER                                   STEP         FIRST   \n",
      "  NO.   NAME      VALUE            ERROR          SIZE      DERIVATIVE \n",
      "   1  n_bkg        2.00099e+03   4.47249e+01   2.07778e-03  -4.55294e-03\n",
      "                               ERR DEF= 0.5\n",
      "fit time Real time 0:00:00, CP time 0.000\n",
      "RooDataSet::AsimovData[x,weight:binWeightAsimov] = 100 entries (2000.99 weighted)\n",
      "Generated Asimov data for observables RooArgSet:: = (x)\n",
      "[#0] PROGRESS:Eval -- AsymptoticCalculator::Initialize Find  best conditional NLL on ASIMOV data set for given alt POI ( n_sig ) = 0\n",
      "AsymptoticCalculator::EvaluateNLL  ........ using Minuit / Migrad with strategy  1 and tolerance 1\n",
      " **********\n",
      " **    7 **SET PRINT           0\n",
      " **********\n",
      " **********\n",
      " **    8 **SET NOGRAD\n",
      " **********\n",
      " PARAMETER DEFINITIONS:\n",
      "    NO.   NAME         VALUE      STEP SIZE      LIMITS\n",
      "     1 n_bkg        2.00099e+03  4.47249e+01   -1.00000e+01  3.00000e+03\n",
      " **********\n",
      " **    9 **SET ERR         0.5\n",
      " **********\n",
      " **********\n",
      " **   10 **SET PRINT           0\n",
      " **********\n",
      " **********\n",
      " **   11 **SET STR           1\n",
      " **********\n",
      " **********\n",
      " **   12 **MIGRAD         500           1\n",
      " **********\n",
      " MIGRAD MINIMIZATION HAS CONVERGED.\n",
      " FCN=-9130.88 FROM MIGRAD    STATUS=CONVERGED      16 CALLS          17 TOTAL\n",
      "                     EDM=4.16853e-15    STRATEGY= 1      ERROR MATRIX ACCURATE \n",
      "  EXT PARAMETER                                   STEP         FIRST   \n",
      "  NO.   NAME      VALUE            ERROR          SIZE      DERIVATIVE \n",
      "   1  n_bkg        2.00099e+03   4.47250e+01   0.00000e+00  -2.89316e-06\n",
      "                               ERR DEF= 0.5\n",
      "AsymptoticCalculator::EvaluateNLL -  value = -9130.88 for poi fixed at = 0\tfit time : Real time 0:00:00, CP time 0.000\n",
      "[#1] INFO:InputArguments -- HypoTestInverter ---- Input models: \n",
      "\t\t using as S+B (null) model     : S+B Model\n",
      "\t\t using as B (alternate) model  : B Model\n",
      "\n",
      "[#1] INFO:Eval -- HypoTestInverter::GetInterval - run a fixed scan\n",
      "[#1] INFO:ObjectHandling -- RooWorkspace::saveSnaphot(myWorkSpace) replacing previous snapshot with name S+B Model__snapshot\n",
      "[#1] INFO:InputArguments -- Minimum of POI is -20 is different to alt snapshot 0 - using standard q asymptotic formulae  \n",
      "[#1] INFO:Eval -- Using one-sided qmu - setting qmu to zero  muHat = 3.04456 muTest = 0\n",
      "[#1] INFO:ObjectHandling -- RooWorkspace::saveSnaphot(myWorkSpace) replacing previous snapshot with name S+B Model__snapshot\n",
      "[#1] INFO:ObjectHandling -- RooWorkspace::saveSnaphot(myWorkSpace) replacing previous snapshot with name S+B Model__snapshot\n",
      "[#1] INFO:ObjectHandling -- RooWorkspace::saveSnaphot(myWorkSpace) replacing previous snapshot with name S+B Model__snapshot\n",
      "[#1] INFO:ObjectHandling -- RooWorkspace::saveSnaphot(myWorkSpace) replacing previous snapshot with name S+B Model__snapshot\n",
      "[#1] INFO:ObjectHandling -- RooWorkspace::saveSnaphot(myWorkSpace) replacing previous snapshot with name S+B Model__snapshot\n",
      "[#1] INFO:ObjectHandling -- RooWorkspace::saveSnaphot(myWorkSpace) replacing previous snapshot with name S+B Model__snapshot\n",
      "[#1] INFO:ObjectHandling -- RooWorkspace::saveSnaphot(myWorkSpace) replacing previous snapshot with name S+B Model__snapshot\n",
      "[#1] INFO:ObjectHandling -- RooWorkspace::saveSnaphot(myWorkSpace) replacing previous snapshot with name S+B Model__snapshot\n",
      "[#1] INFO:ObjectHandling -- RooWorkspace::saveSnaphot(myWorkSpace) replacing previous snapshot with name S+B Model__snapshot\n",
      "[#1] INFO:ObjectHandling -- RooWorkspace::saveSnaphot(myWorkSpace) replacing previous snapshot with name S+B Model__snapshot\n",
      "[#1] INFO:ObjectHandling -- RooWorkspace::saveSnaphot(myWorkSpace) replacing previous snapshot with name S+B Model__snapshot\n",
      "[#1] INFO:ObjectHandling -- RooWorkspace::saveSnaphot(myWorkSpace) replacing previous snapshot with name S+B Model__snapshot\n",
      "[#1] INFO:ObjectHandling -- RooWorkspace::saveSnaphot(myWorkSpace) replacing previous snapshot with name S+B Model__snapshot\n",
      "[#1] INFO:ObjectHandling -- RooWorkspace::saveSnaphot(myWorkSpace) replacing previous snapshot with name S+B Model__snapshot\n",
      "[#1] INFO:ObjectHandling -- RooWorkspace::saveSnaphot(myWorkSpace) replacing previous snapshot with name S+B Model__snapshot\n",
      "[#1] INFO:ObjectHandling -- RooWorkspace::saveSnaphot(myWorkSpace) replacing previous snapshot with name S+B Model__snapshot\n",
      "[#1] INFO:ObjectHandling -- RooWorkspace::saveSnaphot(myWorkSpace) replacing previous snapshot with name S+B Model__snapshot\n",
      "[#1] INFO:ObjectHandling -- RooWorkspace::saveSnaphot(myWorkSpace) replacing previous snapshot with name S+B Model__snapshot\n",
      "[#1] INFO:ObjectHandling -- RooWorkspace::saveSnaphot(myWorkSpace) replacing previous snapshot with name S+B Model__snapshot\n",
      "[#1] INFO:ObjectHandling -- RooWorkspace::saveSnaphot(myWorkSpace) replacing previous snapshot with name S+B Model__snapshot\n",
      "[#1] INFO:ObjectHandling -- RooWorkspace::saveSnaphot(myWorkSpace) replacing previous snapshot with name S+B Model__snapshot\n",
      "[#1] INFO:ObjectHandling -- RooWorkspace::saveSnaphot(myWorkSpace) replacing previous snapshot with name S+B Model__snapshot\n",
      "[#1] INFO:ObjectHandling -- RooWorkspace::saveSnaphot(myWorkSpace) replacing previous snapshot with name S+B Model__snapshot\n",
      "[#1] INFO:ObjectHandling -- RooWorkspace::saveSnaphot(myWorkSpace) replacing previous snapshot with name S+B Model__snapshot\n",
      "[#1] INFO:ObjectHandling -- RooWorkspace::saveSnaphot(myWorkSpace) replacing previous snapshot with name S+B Model__snapshot\n",
      "[#1] INFO:ObjectHandling -- RooWorkspace::saveSnaphot(myWorkSpace) replacing previous snapshot with name S+B Model__snapshot\n",
      "[#1] INFO:ObjectHandling -- RooWorkspace::saveSnaphot(myWorkSpace) replacing previous snapshot with name S+B Model__snapshot\n",
      "[#1] INFO:ObjectHandling -- RooWorkspace::saveSnaphot(myWorkSpace) replacing previous snapshot with name S+B Model__snapshot\n",
      "[#1] INFO:ObjectHandling -- RooWorkspace::saveSnaphot(myWorkSpace) replacing previous snapshot with name S+B Model__snapshot\n",
      "\n",
      "Results HypoTestAsymptotic_result: \n",
      " - Null p-value = 7.32855e-05\n",
      " - Significance = 3.79681\n",
      " - CL_b: 7.32855e-05\n",
      " - CL_s+b: 0.54052\n",
      " - CL_s: 7375.53\n"
     ]
    }
   ],
   "source": [
    "upper_limit_result, ac_result =tau_tools.calculate_upperlimit_asymptotic_CLs(upperlimit_configuration)"
   ]
  },
  {
   "cell_type": "code",
   "execution_count": 5,
   "id": "major-contest",
   "metadata": {
    "tags": []
   },
   "outputs": [
    {
     "name": "stdout",
     "output_type": "stream",
     "text": [
      "The observed CLs upper limit is:  42.72753163872532\n",
      "Expected upper limits, using the B (alternate) model : \n",
      " expected limit (median)  40.841082601151925\n",
      " expected limit (-1 sig)  28.330103637398814\n",
      " expected limit (+1 sig)  59.68857314295125\n",
      " expected limit (-2 sig)  20.539230072508445\n",
      " expected limit (+2 sig)  83.81534318796714\n",
      "################\n"
     ]
    }
   ],
   "source": [
    "tau_tools.print_save_results(upper_limit_result, \"results.txt\")"
   ]
  },
  {
   "cell_type": "markdown",
   "id": "multiple-enhancement",
   "metadata": {},
   "source": [
    "### Brazil Band Plot"
   ]
  },
  {
   "cell_type": "code",
   "execution_count": 6,
   "id": "altered-mason",
   "metadata": {},
   "outputs": [
    {
     "name": "stdout",
     "output_type": "stream",
     "text": [
      "Saving the plot in brazil_band_1D.png.\n"
     ]
    },
    {
     "name": "stderr",
     "output_type": "stream",
     "text": [
      "Info in <TCanvas::Print>: png file brazil_band_1D.png has been created\n"
     ]
    }
   ],
   "source": [
    "canvas_brazil_band=tau_tools.make_brazil_band(upper_limit_result, \"brazil_band_1D.png\")"
   ]
  },
  {
   "cell_type": "code",
   "execution_count": 7,
   "id": "sophisticated-foundation",
   "metadata": {},
   "outputs": [
    {
     "data": {
      "image/png": "[encoded data removed]",
      "text/plain": [
       "<IPython.core.display.Image object>"
      ]
     },
     "metadata": {},
     "output_type": "display_data"
    }
   ],
   "source": [
    "canvas_brazil_band.Draw()"
   ]
  }
 ],
 "metadata": {
  "kernelspec": {
   "display_name": "Python [conda env:newroot26]",
   "language": "python",
   "name": "conda-env-newroot26-py"
  },
  "language_info": {
   "codemirror_mode": {
    "name": "ipython",
    "version": 3
   },
   "file_extension": ".py",
   "mimetype": "text/x-python",
   "name": "python",
   "nbconvert_exporter": "python",
   "pygments_lexer": "ipython3",
   "version": "3.10.4"
  }
 },
 "nbformat": 4,
 "nbformat_minor": 5
}
